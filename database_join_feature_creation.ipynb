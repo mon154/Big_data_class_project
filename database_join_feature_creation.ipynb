{
 "cells": [
  {
   "cell_type": "code",
   "execution_count": null,
   "metadata": {},
   "outputs": [],
   "source": [
    "%python\n",
    "import pyspark.sql.functions as F\n",
    "import pandas as pd\n",
    "from pyspark.sql.types import (ArrayType, LongType, StringType, StructField, StructType, DoubleType, MapType)\n",
    "import matplotlib.pyplot as plt"
   ]
  },
  {
   "cell_type": "code",
   "execution_count": null,
   "metadata": {},
   "outputs": [],
   "source": [
    "USE DATABASE monthly_all;"
   ]
  },
  {
   "cell_type": "code",
   "execution_count": null,
   "metadata": {},
   "outputs": [],
   "source": [
    "%python\n",
    "### .coalesce(), .repartition(), .cache(), .persist() SAVE TABLE\n",
    "df = sqlContext.sql(\"SELECT sgt.brand_name, sgt.naics_code, sgt.stock_symbol, mp.date_range_start, mp.raw_visit_counts, mp.raw_visitor_counts, mp.median_dwell, mp.distance_from_home FROM sg_tickers as sgt LEFT JOIN core_places as cp ON sgt.safegraph_brand_id = cp.brand LEFT JOIN monthly_patterns as mp ON cp.placekey = mp.placekey WHERE mp.region = 'ny' AND mp.location_name IN ('Walmart', 'Walgreens', 'Costco', 'Mobil', 'Dollar Tree')\")\n",
    "\n",
    "df = df.withColumn(\"Distance_By_Time\", df.distance_from_home / df.median_dwell)\n",
    "df = df.select(\"*\",F.round(\"Distance_By_Time\",2))\n",
    "df = df.drop(\"Distance_By_Time\")\n",
    "df = df.withColumnRenamed(\"round(Distance_By_Time, 2)\", \"Distance_By_Time\")\n",
    "\n",
    "df = df.withColumn(\"Percent_Repeat_Visits\", (df.raw_visit_counts - df.raw_visitor_counts) / df.raw_visit_counts)\n",
    "df = df.select(\"*\",F.round(\"Percent_Repeat_Visits\",2))\n",
    "df = df.drop(\"Percent_Repeat_Visits\")\n",
    "df = df.withColumnRenamed(\"round(Percent_Repeat_Visits, 2)\", \"Percent_Repeat_Visits\")\n",
    "\n",
    "df = df.withColumn(\"Repeat_Visits_Distance_By_Time\", df.Distance_By_Time * df.Percent_Repeat_Visits)\n",
    "df = df.select(\"*\",F.round(\"Repeat_Visits_Distance_By_Time\",2))\n",
    "df = df.drop(\"Repeat_Visits_Distance_By_Time\")\n",
    "df = df.withColumnRenamed(\"round(Repeat_Visits_Distance_By_Time, 2)\", \"Repeat_Visits_Distance_By_Time\")\n",
    "df = df.withColumn(\"Repeat_Visits_Distance_By_Time\", F.when(df.Repeat_Visits_Distance_By_Time == '0',df.Distance_By_Time) \\\n",
    "\n",
    "      .otherwise(df.Repeat_Visits_Distance_By_Time))\n",
    "\n",
    "df = df.na.drop(subset=[\"distance_from_home\"])\n",
    "df = df.where(df.Repeat_Visits_Distance_By_Time<1000)\n",
    "\n",
    "df = df.withColumn('Quarter',F.quarter(df.date_range_start))\n",
    "df = df.withColumn('Year',F.year(df.date_range_start))\n",
    "df = df.drop(\"date_range_start\")\n",
    "df = df.drop(\"naics_code\")\n",
    "df = df.drop(\"raw_visitor_counts\")\n",
    "df = df.withColumn(\"yearQuarter\", F.concat_ws(\"_\",df.Year, df.Quarter))\n",
    "\n",
    "df = df.select(\"stock_symbol\",\"brand_name\",\"yearQuarter\",\"Quarter\", \"Year\",\"distance_from_home\", \"median_dwell\",\"Distance_By_Time\",\"Percent_Repeat_Visits\",\"Repeat_Visits_Distance_By_Time\")"
   ]
  },
  {
   "cell_type": "code",
   "execution_count": null,
   "metadata": {},
   "outputs": [],
   "source": [
    "%python\n",
    "from pyspark.sql.window import Window\n",
    "windowSpec  = Window.partitionBy(\"yearQuarter\").orderBy(\"stock_symbol\")\n",
    "windowSpec2  = Window.partitionBy(\"yearQuarter\")\n",
    "df2 = df.withColumn(\"row\", F.row_number().over(windowSpec)) \\\n",
    "        .withColumn(\"rvdbt_avg\", F.round(F.avg(F.col(\"Repeat_Visits_Distance_By_Time\")).over(windowSpec2),2)) \\\n",
    "        .withColumn(\"rvdbt_min\", F.round(F.min(F.col(\"Repeat_Visits_Distance_By_Time\")).over(windowSpec2),2)) \\\n",
    "        .withColumn(\"rvdbt_max\", F.round(F.max(F.col(\"Repeat_Visits_Distance_By_Time\")).over(windowSpec2),2)) \\\n",
    "        .withColumn(\"rvdbt_stddev\", F.round(F.stddev(F.col(\"Repeat_Visits_Distance_By_Time\")).over(windowSpec2),2)) \\\n",
    "        .where(F.col(\"row\")==1).select(\"stock_symbol\",\"Quarter\",\"year\",\"rvdbt_avg\",\"rvdbt_min\",\"rvdbt_max\",\"rvdbt_stddev\") \\\n",
    "        .sort(F.col(\"brand_name\"), F.col(\"yearQuarter\"))"
   ]
  },
  {
   "cell_type": "markdown",
   "metadata": {},
   "source": []
  },
  {
   "cell_type": "code",
   "execution_count": null,
   "metadata": {},
   "outputs": [],
   "source": [
    "%python\n",
    "\n",
    "df1 = df\n",
    "spark.conf.set(\"spark.sql.execution.arrow.enabled\", \"true\")\n",
    "df1 = df1.select(\"*\").toPandas()"
   ]
  },
  {
   "cell_type": "code",
   "execution_count": null,
   "metadata": {},
   "outputs": [],
   "source": [
    "%python\n",
    "\n",
    "Walmart = []\n",
    "Walgreens = []\n",
    "Costco = []\n",
    "Mobil = []\n",
    "Dollar_Tree = []\n",
    "\n",
    "for i, row in df1.iterrows():\n",
    "    if row['brand_name'] == \"Walmart\":\n",
    "        Walmart.append(row['Repeat_Visits_Distance_By_Time'])\n",
    "    elif row['brand_name'] == \"Walgreens\":\n",
    "        Walgreens.append(row['Repeat_Visits_Distance_By_Time'])\n",
    "    elif row['brand_name'] == \"Costco\":\n",
    "        Costco.append(row['Repeat_Visits_Distance_By_Time'])\n",
    "    elif row['brand_name'] == \"Mobil\":\n",
    "        Mobil.append(row['Repeat_Visits_Distance_By_Time'])\n",
    "    elif row['brand_name'] == \"Dollar Tree\":\n",
    "        Dollar_Tree.append(row['Repeat_Visits_Distance_By_Time'])"
   ]
  },
  {
   "cell_type": "code",
   "execution_count": null,
   "metadata": {},
   "outputs": [],
   "source": [
    "%python\n",
    "\n",
    "boxplot_data = [Walmart, Walgreens, Costco, Mobil, Dollar_Tree]\n",
    "fig = plt.figure(figsize =(10, 10))\n",
    "plt.boxplot(boxplot_data,patch_artist = True,labels=[\"Walmart\", 'Walgreens', 'Costco', 'Mobil', 'Dollar_Tree'])\n",
    "plt.title(\"Distance Divided By Time Multiplied By The Percentage of Repeat Visits of Brands in New York\")\n",
    "plt.ylabel(\"Repeat_Visits_Distance_By_Time\")\n",
    "plt.xlabel(\"Brand\")\n",
    "plt.show()"
   ]
  },
  {
   "cell_type": "markdown",
   "metadata": {},
   "source": []
  }
 ],
 "metadata": {
  "language_info": {
   "name": "python"
  }
 },
 "nbformat": 4,
 "nbformat_minor": 2
}
